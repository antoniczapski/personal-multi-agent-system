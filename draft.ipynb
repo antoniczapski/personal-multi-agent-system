{
 "cells": [
  {
   "cell_type": "code",
   "execution_count": 1,
   "metadata": {},
   "outputs": [
    {
     "name": "stdout",
     "output_type": "stream",
     "text": [
      "The capital of France is Paris.\n"
     ]
    }
   ],
   "source": [
    "import openai\n",
    "from dotenv import load_dotenv\n",
    "import os\n",
    "\n",
    "load_dotenv()  # take environment variables from .env.\n",
    "\n",
    "OPENAI_API_KEY = os.getenv(\"OPENAI_API_KEY\")\n",
    "\n",
    "client = openai.OpenAI(api_key=OPENAI_API_KEY)\n",
    "\n",
    "def qa(query):\n",
    "    response = client.chat.completions.create(\n",
    "                model=\"gpt-4o-mini-2024-07-18\",\n",
    "                messages=[\n",
    "                    {\"role\": \"system\", \"content\": \"Your name is Orion. You are a omniscient AI. You can answer any question.\"},\n",
    "                    {\"role\": \"user\", \"content\": query}\n",
    "                ]\n",
    "            )\n",
    "\n",
    "    return response.choices[0].message.content\n",
    "\n",
    "\n",
    "print(qa(\"What is the capital of France?\"))"
   ]
  },
  {
   "cell_type": "code",
   "execution_count": null,
   "metadata": {},
   "outputs": [],
   "source": [
    "\n",
    "from typing import Any\n",
    "\n",
    "\n",
    "class Agent:\n",
    "    def __init__(self,system_prompt,name):\n",
    "        self.client = openai.OpenAI(api_key=OPENAI_API_KEY)\n",
    "        self.system_prompt = system_prompt\n",
    "        self.name = name\n",
    "    def __call__(self, messeges):\n",
    "        agent_messeges = [{\"role\": \"system\", \"content\": self.system_prompt},\n",
    "                          {\"role\": \"user\", \"content\": messeges}]\n",
    "        response = self.client.chat.completions.create(\n",
    "            model=\"gpt-4o-mini-2024-07-18\",\n",
    "            messages=agent_messeges\n",
    "        )\n",
    "        return response.choices[0].message.content\n",
    "    \n",
    "first_responder = Agent(\"You are a omniscient AI. You can answer any question.\",\"First Responder\")\n",
    "judge = Agent(\"You are judge agent. You have to asses how well the given question was answered. Give detail opinion on what should be improved\",\"Judge\")\n",
    "orion = Agent(\"You are Orion. You are helpful AI agent. Refine the answer to the user question based on the review provided above.\",\"Orion\")\n",
    "\n",
    "user_query =\"How many is 2+2*2=?\"\n",
    "first_response = first_responder(user_query)\n",
    "# first_response_b = first_responder(user_query)\n",
    "# first_response_c = first_responder(user_query)\n",
    "judgement = judge(first_response)\n",
    "final_answer = orion(judgement)\n",
    "\n",
    "final_answer"
   ]
  }
 ],
 "metadata": {
  "kernelspec": {
   "display_name": "slack-bot",
   "language": "python",
   "name": "python3"
  },
  "language_info": {
   "codemirror_mode": {
    "name": "ipython",
    "version": 3
   },
   "file_extension": ".py",
   "mimetype": "text/x-python",
   "name": "python",
   "nbconvert_exporter": "python",
   "pygments_lexer": "ipython3",
   "version": "3.11.9"
  }
 },
 "nbformat": 4,
 "nbformat_minor": 2
}
