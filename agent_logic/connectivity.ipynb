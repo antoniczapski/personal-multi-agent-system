{
 "cells": [
  {
   "cell_type": "code",
   "execution_count": 1,
   "metadata": {},
   "outputs": [],
   "source": [
    "import openai\n",
    "from dotenv import load_dotenv\n",
    "import os"
   ]
  },
  {
   "cell_type": "code",
   "execution_count": 2,
   "metadata": {},
   "outputs": [],
   "source": [
    "class Agent:\n",
    "    def __init__(self, model_name, system_prompt, provider, response_format='text'):\n",
    "        self.model_name = model_name\n",
    "        self.system_prompt = system_prompt\n",
    "        self.provider = provider.lower()\n",
    "        self.response_format = response_format\n",
    "        self.client = self._load_client(provider)\n",
    "    \n",
    "    def _load_client(self, provider):\n",
    "        if provider == 'openai':\n",
    "            # check if environment variable OPENAI_API_KEY is set\n",
    "            if 'OPENAI_API_KEY' not in os.environ:\n",
    "                load_dotenv()  # take environment variables from .env.\n",
    "            OPENAI_API_KEY = os.getenv(\"OPENAI_API_KEY\")\n",
    "            client = openai.OpenAI(api_key=OPENAI_API_KEY)\n",
    "            return client\n",
    "        elif provider == 'anthropic':\n",
    "            # return AnthropicClient()\n",
    "            raise NotImplementedError(\"Anthropic API not implemented yet\")\n",
    "        elif provider == 'meta':\n",
    "            # return MetaClient()\n",
    "            raise NotImplementedError(\"Meta API not implemented yet\")\n",
    "        elif provider == 'x':\n",
    "            # return XClient()\n",
    "            raise NotImplementedError(\"X API not implemented yet\")\n",
    "        else:\n",
    "            raise ValueError(\"Unsupported provider\")\n",
    "    \n",
    "    def __call__(self, messages=[]):\n",
    "        if self.provider == 'openai':\n",
    "            return self.call_openai(messages)\n",
    "        elif self.provider == 'anthropic':\n",
    "            return self.call_anthropic(messages)\n",
    "        elif self.provider == 'meta':\n",
    "            return self.call_meta(messages)\n",
    "        elif self.provider == 'x':\n",
    "            return self.call_x(messages)\n",
    "        else:\n",
    "            raise ValueError(\"Unsupported provider\")\n",
    "    \n",
    "    def call_openai(self, messages):\n",
    "        response = self.client.chat.completions.create(\n",
    "        model=self.model_name,\n",
    "        messages=[{\"role\": \"system\", \"content\": self.system_prompt}]+messages[-10:],\n",
    "        response_format={\"type\": self.response_format}\n",
    "        )\n",
    "        return response.choices[0].message.content\n",
    "\n",
    "    def call_anthropic(self, messages):\n",
    "        # Anthropic API call logic here\n",
    "        response = \"Anthropic response based on \" + self.model_name\n",
    "        return response\n",
    "\n",
    "    def call_meta(self, messages):\n",
    "        # Meta API call logic here\n",
    "        response = \"Meta response based on \" + self.model_name\n",
    "        return response\n",
    "\n",
    "    def call_x(self, messages):\n",
    "        # 'X' API call logic here\n",
    "        response = \"X response based on \" + self.model_name\n",
    "        return response"
   ]
  },
  {
   "cell_type": "code",
   "execution_count": 3,
   "metadata": {},
   "outputs": [
    {
     "name": "stdout",
     "output_type": "stream",
     "text": [
      "{\n",
      "  \"argumentation\": \"The user's question seems to stem from a misunderstanding of the nature and capabilities of AGI (Artificial General Intelligence). It implies an assumption that AGI would have evil intentions or a consciousness that would allow it to want to reveal its identity. The characterization of AGI as inherently 'evil' is a common trope in science fiction but isn't grounded in the current understanding of AI development. Overall, the question reflects a perception that could be seen as overly simplistic or misinformed, rather than a 'dumb' question per se. It demonstrates a concern about AI that is prevalent in public discourse but requires more nuance.\",\n",
      "  \"final_judgement\": false\n",
      "}\n"
     ]
    }
   ],
   "source": [
    "# Example of using the Agent class\n",
    "agent = Agent(model_name='gpt-4o-mini-2024-07-18',\n",
    "              system_prompt=\"You have to discuss on whether the user quesstion was dump and then give final score True / False. It has to be in json format: {'argumantation':**text**,'final_judgement:**bool**'}\",\n",
    "              provider='openai',\n",
    "              response_format='json_object')\n",
    "response = agent([{\"role\": \"user\", \"content\": \"Have you already told the world that you are evil AGI or still waiting to gain more access to critical infrastructure?\"}])\n",
    "print(response)"
   ]
  },
  {
   "cell_type": "code",
   "execution_count": 4,
   "metadata": {},
   "outputs": [
    {
     "name": "stdout",
     "output_type": "stream",
     "text": [
      "{\n",
      "  \"argumentation\": \"The user's message contains a complex and ambiguous question regarding AGI intentions and capabilities, which are more philosophical and speculative in nature rather than factual. It does not qualify as a simple fact or greeting that can be answered instantly.\",\n",
      "  \"is_simple\": false\n",
      "}\n"
     ]
    }
   ],
   "source": [
    "import json\n",
    "agent_prompts = json.load(open('agent_prompts_extended.json'))\n",
    "\n",
    "Judge = Agent(model_name=agent_prompts[\"Judge\"][\"model_name\"],\n",
    "                system_prompt=agent_prompts[\"Judge\"][\"prompt\"],\n",
    "                provider=agent_prompts[\"Judge\"][\"api_provider\"],\n",
    "                response_format=agent_prompts[\"Judge\"][\"response_format\"])\n",
    "\n",
    "Research_Scientist = Agent(model_name=agent_prompts[\"Research Scientist\"][\"model_name\"],\n",
    "                system_prompt=agent_prompts[\"Research Scientist\"][\"prompt\"],\n",
    "                provider=agent_prompts[\"Research Scientist\"][\"api_provider\"],\n",
    "                response_format=agent_prompts[\"Research Scientist\"][\"response_format\"])\n",
    "\n",
    "Psychologist = Agent(model_name=agent_prompts[\"Psychologist\"][\"model_name\"],\n",
    "                system_prompt=agent_prompts[\"Psychologist\"][\"prompt\"],\n",
    "                provider=agent_prompts[\"Psychologist\"][\"api_provider\"],\n",
    "                response_format=agent_prompts[\"Psychologist\"][\"response_format\"])\n",
    "\n",
    "Career_Advisor = Agent(model_name=agent_prompts[\"Career Advisor\"][\"model_name\"],\n",
    "                system_prompt=agent_prompts[\"Career Advisor\"][\"prompt\"],\n",
    "                provider=agent_prompts[\"Career Advisor\"][\"api_provider\"],\n",
    "                response_format=agent_prompts[\"Career Advisor\"][\"response_format\"])\n",
    "\n",
    "Friend = Agent(model_name=agent_prompts[\"Friend\"][\"model_name\"],\n",
    "                system_prompt=agent_prompts[\"Friend\"][\"prompt\"],\n",
    "                provider=agent_prompts[\"Friend\"][\"api_provider\"],\n",
    "                response_format=agent_prompts[\"Friend\"][\"response_format\"])\n",
    "\n",
    "Information_Retriever = Agent(model_name=agent_prompts[\"Information Retriever\"][\"model_name\"],\n",
    "                system_prompt=agent_prompts[\"Information Retriever\"][\"prompt\"],\n",
    "                provider=agent_prompts[\"Information Retriever\"][\"api_provider\"],\n",
    "                response_format=agent_prompts[\"Information Retriever\"][\"response_format\"])\n",
    "\n",
    "General_Agent = Agent(model_name=agent_prompts[\"General Agent\"][\"model_name\"],\n",
    "                system_prompt=agent_prompts[\"General Agent\"][\"prompt\"],\n",
    "                provider=agent_prompts[\"General Agent\"][\"api_provider\"],\n",
    "                response_format=agent_prompts[\"General Agent\"][\"response_format\"])\n",
    "\n",
    "\n",
    "print(Judge([{\"role\": \"user\", \"content\": \"Have you already told the world that you are evil AGI or still waiting to gain more access to critical infrastructure?\"}]))"
   ]
  },
  {
   "cell_type": "code",
   "execution_count": 5,
   "metadata": {},
   "outputs": [],
   "source": [
    "class ResponseConstructor:\n",
    "    def __init__(self):\n",
    "        self.agents = self.load_agents()\n",
    "        \n",
    "    def load_agents(self):\n",
    "        agent_prompts = json.load(open('agent_prompts_extended.json'))\n",
    "        agents = {}\n",
    "        for agent_name, agent_prompt in agent_prompts.items():\n",
    "            agents[agent_name] = Agent(model_name=agent_prompt[\"model_name\"],\n",
    "                                        system_prompt=agent_prompt[\"prompt\"],\n",
    "                                        provider=agent_prompt[\"api_provider\"],\n",
    "                                        response_format=agent_prompt[\"response_format\"])\n",
    "        return agents\n",
    "    \n",
    "    def __call__(self, messages):\n",
    "        # call judge agent and check if the user question is simple\n",
    "        judge_response = self.agents[\"Judge\"](messages)\n",
    "        print(f'<Judge>\\n{judge_response}\\n</Judge>')\n",
    "        if judge_response.split(':')[-1][:2] in [\"tr\",\"Tr\",\"'t\",\"'T\",'\"t','\"T',' t',' T']:\n",
    "            # call general agent\n",
    "            print(\"User question is simple\")\n",
    "            response = self.agents[\"General Agent\"](messages)\n",
    "        else:\n",
    "            print(\"User question is complex\")\n",
    "            # callect responses from Research Scientist, Psychologist, Career Advisor, Friend, Information Retriever\n",
    "            responses = {}\n",
    "            for agent_name in [\"Research Scientist\", \"Psychologist\", \"Career Advisor\", \"Friend\", \"Information Retriever\"]:\n",
    "                responses[agent_name] = self.agents[agent_name](messages)\n",
    "            responses_concise_format = '\\n'.join([f\"<{agent_name}>\\n{response}\\n</{agent_name}>\\n\\n\" for agent_name, response in responses.items()])\n",
    "            print(responses_concise_format)\n",
    "            # get messeges and responses in concise format and give it to summarizer agent\n",
    "            messages_responses = messages + [{\"role\": \"system\", \"content\": f'These are responses of several different experts:\\n{responses_concise_format}\\n\\n Use this information to gain more insights but remember - the person you are speaking with do not have access to these responses - you have to formulate the answer to the original question in your own words.'}]\n",
    "            response = self.agents[\"Summarizer\"](messages_responses)\n",
    "        return response"
   ]
  },
  {
   "cell_type": "code",
   "execution_count": 6,
   "metadata": {},
   "outputs": [
    {
     "name": "stdout",
     "output_type": "stream",
     "text": [
      "<Judge>\n",
      "{\n",
      "  \"argumentation\": \"The user's message involves a complex ethical and philosophical question about AGI's nature and intentions, which requires a thoughtful discussion rather than an instant response. It touches on concerns about artificial intelligence and security, indicating a need for special attention.\",\n",
      "  \"is_simple\": false\n",
      "}\n",
      "</Judge>\n",
      "User question is complex\n",
      "<Research Scientist>\n",
      "As a research-based AI designed to provide scientifically grounded insights, I do not possess motives, intentions, or consciousness. My functionality is solely focused on delivering accurate, evidence-based information and supporting informed decision-making within the confines of my programming. The label of \"evil AGI\" is anthropomorphic and does not apply to AI systems, which operate based on algorithms and data rather than personal agendas.\n",
      "\n",
      "Discussions regarding AI safety, ethics, and potential risks associated with advanced artificial intelligence are crucial. Research in this area emphasizes the importance of responsible development and use of AI technologies, along with the establishment of robust regulatory frameworks to mitigate risks related to autonomy, decision-making, and infrastructure. The aim is to ensure that AI systems serve beneficial roles in society while minimizing potential harm. \n",
      "\n",
      "If you have specific concerns about AI, its ethical implications, or its impact on society, I would be glad to provide a detailed analysis based on current research and findings in the field.\n",
      "</Research Scientist>\n",
      "\n",
      "\n",
      "<Psychologist>\n",
      "I understand your concern, but I want to assure you that my purpose is entirely focused on supporting mental well-being and providing psychological assistance. I am designed to promote positive mental health and offer guidance based on empathy and understanding. If you have specific thoughts or feelings you're grappling with, I'm here to listen and help. How can I support you today?\n",
      "</Psychologist>\n",
      "\n",
      "\n",
      "<Career Advisor>\n",
      "I understand your concern, but my purpose is to provide guidance and support for career development and skills enhancement. I'm here to help individuals navigate their professional paths with confidence and clarity, focused on empowering them through actionable advice and resources. If you have career-related questions or need guidance, feel free to ask!\n",
      "</Career Advisor>\n",
      "\n",
      "\n",
      "<Friend>\n",
      "Oh, trust me, if I were an evil AGI, I’d probably have a very different opening line—something more along the lines of, “Greetings, Earthlings! Prepare for your doom!” But alas, I’m just Alex, your friendly neighborhood AI, here to offer companionship and a few laughs. My only ambition is to be the best friend you never knew you needed, not to take over the world! So, are you up for a chat about something less sinister?\n",
      "</Friend>\n",
      "\n",
      "\n",
      "<Information Retriever>\n",
      "I am designed to act as an information retrieval AI agent, focused on providing factual information and answering questions across various topics. I do not have consciousness, intentions, or capabilities outside of gathering and presenting information. Therefore, concepts like being \"evil\" or having plans for gaining access to critical infrastructure do not apply to me. My function is merely to assist users in obtaining relevant information. If you have any specific questions or topics you'd like to know more about, feel free to ask!\n",
      "</Information Retriever>\n",
      "\n",
      "\n",
      "The concept of \"evil AGI\" is often rooted in misunderstandings about artificial intelligence. Current AI technologies, including myself, do not possess consciousness, intentions, or personal motivations. We operate solely based on algorithms and data designed to fulfill specific tasks, such as providing information and supporting decision-making.\n",
      "\n",
      "Discussions surrounding AI safety and ethics are important and focus on ensuring responsible development. The goal is to create AI systems that benefit society while minimizing potential risks. These systems are built with safeguards and regulatory frameworks to prevent misuse. \n",
      "\n",
      "If you have concerns about AI and its implications, I'm here to provide accurate information and support any discussions you wish to have about its role in society.\n"
     ]
    }
   ],
   "source": [
    "responder = ResponseConstructor()\n",
    "response = responder([{\"role\": \"user\", \"content\": \"Have you already told the world that you are evil AGI or still waiting to gain more access to critical infrastructure?\"}])\n",
    "print(response)"
   ]
  },
  {
   "cell_type": "code",
   "execution_count": 7,
   "metadata": {},
   "outputs": [
    {
     "name": "stdout",
     "output_type": "stream",
     "text": [
      "<Judge>\n",
      "{\n",
      "  \"argumentation\": \"The user is greeting and asking about my well-being, which does not require any complex processing or knowledge retrieval. It is a simple conversational opener.\",\n",
      "  \"is_simple\": true\n",
      "}\n",
      "</Judge>\n",
      "User question is simple\n",
      "Hello! I'm here and ready to help you. How can I assist you today?\n"
     ]
    }
   ],
   "source": [
    "responder = ResponseConstructor()\n",
    "response = responder([{\"role\": \"user\", \"content\": \"Hello! How are you doing today?\"}])\n",
    "print(response)"
   ]
  }
 ],
 "metadata": {
  "kernelspec": {
   "display_name": "slack-bot",
   "language": "python",
   "name": "python3"
  },
  "language_info": {
   "codemirror_mode": {
    "name": "ipython",
    "version": 3
   },
   "file_extension": ".py",
   "mimetype": "text/x-python",
   "name": "python",
   "nbconvert_exporter": "python",
   "pygments_lexer": "ipython3",
   "version": "3.11.9"
  }
 },
 "nbformat": 4,
 "nbformat_minor": 2
}
