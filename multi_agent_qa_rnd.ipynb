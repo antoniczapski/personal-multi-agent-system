{
 "cells": [
  {
   "cell_type": "code",
   "execution_count": 14,
   "metadata": {},
   "outputs": [
    {
     "name": "stdout",
     "output_type": "stream",
     "text": [
      "sk-proj-RMUZkt9UQnEZIAXnUlrtT3BlbkFJhuzm6laVBxM6CXpl2adI\n",
      "def perimeter(diameter, height):\n",
      "    return 2 * 3.14159 * (diameter/2) + 2 * 3.14159 * (diameter/2) + 2 * height\n"
     ]
    }
   ],
   "source": [
    "import openai\n",
    "from dotenv import load_dotenv\n",
    "import os\n",
    "\n",
    "load_dotenv()  # take environment variables from .env.\n",
    "\n",
    "api_key = os.getenv(\"API_KEY\")\n",
    "\n",
    "client = openai.OpenAI(api_key=api_key)\n",
    "\n",
    "task = \"Write a python function to find the perimeter of a cylinder. Start with 'def perimeter(diameter,height):'\"\n",
    "unit_test = [\n",
    "        \"assert perimeter(2,4) == 12\",\n",
    "        \"assert perimeter(1,2) == 6\",\n",
    "        \"assert perimeter(3,1) == 8\"\n",
    "        ]\n",
    "\n",
    "response = client.chat.completions.create(\n",
    "            model=\"gpt-3.5-turbo\",\n",
    "            messages=[\n",
    "                {\"role\": \"system\", \"content\": \"You are solving algorithmic problems in python. With given task and function name, write the function to solve the task. Do not add anything else - no comments. You can use only defualt python libraries. Do not import anything else!!!\"},\n",
    "                {\"role\": \"user\", \"content\": task}\n",
    "            ]\n",
    "        )\n",
    "\n",
    "print(response.choices[0].message.content)"
   ]
  }
 ],
 "metadata": {
  "kernelspec": {
   "display_name": "slack-bot",
   "language": "python",
   "name": "python3"
  },
  "language_info": {
   "codemirror_mode": {
    "name": "ipython",
    "version": 3
   },
   "file_extension": ".py",
   "mimetype": "text/x-python",
   "name": "python",
   "nbconvert_exporter": "python",
   "pygments_lexer": "ipython3",
   "version": "3.11.9"
  }
 },
 "nbformat": 4,
 "nbformat_minor": 2
}
